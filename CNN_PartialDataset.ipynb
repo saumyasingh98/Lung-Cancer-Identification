{
  "nbformat": 4,
  "nbformat_minor": 0,
  "metadata": {
    "colab": {
      "name": "CNN_PartialDataset.ipynb",
      "provenance": []
    },
    "kernelspec": {
      "name": "python3",
      "display_name": "Python 3"
    },
    "language_info": {
      "name": "python"
    }
  },
  "cells": [
    {
      "cell_type": "code",
      "execution_count": null,
      "metadata": {
        "colab": {
          "base_uri": "https://localhost:8080/"
        },
        "id": "hfKyukUss5uM",
        "outputId": "70329bd0-1667-412b-e6ac-b4a683a2cc3a"
      },
      "outputs": [
        {
          "output_type": "stream",
          "name": "stdout",
          "text": [
            "Mounted at /content/gdrive\n"
          ]
        }
      ],
      "source": [
        "from google.colab import drive\n",
        "drive.mount('/content/gdrive')"
      ]
    },
    {
      "cell_type": "code",
      "source": [
        "import os\n",
        "from tensorflow.keras.preprocessing.image import ImageDataGenerator\n",
        "import tensorflow as tf\n",
        "from tensorflow.keras.optimizers import RMSprop\n",
        "import matplotlib.pyplot as plt\n",
        "from sklearn import metrics\n",
        "from sklearn.metrics import confusion_matrix\n",
        "from tensorflow.keras.applications import EfficientNetB0\n",
        "from keras.layers import Dropout, Dense, Flatten"
      ],
      "metadata": {
        "id": "WigsR8EXwg6x"
      },
      "execution_count": null,
      "outputs": []
    },
    {
      "cell_type": "code",
      "source": [
        "import pandas as pd\n",
        "import numpy as np\n",
        "import os\n",
        "import tensorflow as tf\n",
        "import cv2\n",
        "from tensorflow import keras\n",
        "from tensorflow.keras import layers, Input\n",
        "from tensorflow.keras.layers import Dense, InputLayer, Flatten\n",
        "from tensorflow.keras.models import Sequential, Model\n",
        "from  matplotlib import pyplot as plt\n",
        "import matplotlib.image as mpimg\n",
        "%matplotlib inline"
      ],
      "metadata": {
        "id": "x3EobqTGafCP"
      },
      "execution_count": null,
      "outputs": []
    },
    {
      "cell_type": "code",
      "source": [
        "from imblearn.over_sampling import SMOTE"
      ],
      "metadata": {
        "id": "Wb5Xuxakorc9"
      },
      "execution_count": null,
      "outputs": []
    },
    {
      "cell_type": "code",
      "source": [
        "from keras import Model"
      ],
      "metadata": {
        "id": "-3TbJAbcU4S_"
      },
      "execution_count": null,
      "outputs": []
    },
    {
      "cell_type": "code",
      "source": [
        "train_folder = '/content/gdrive/My Drive/Winter 2022/Deep Learning/lung _cancer_Dataset/train_og/'\n",
        "val_folder = '/content/gdrive/My Drive/Winter 2022/Deep Learning/lung _cancer_Dataset/valid_og/'\n",
        "test_folder = '/content/gdrive/My Drive/Winter 2022/Deep Learning/lung _cancer_Dataset/test/'"
      ],
      "metadata": {
        "id": "3suLKlu9t2AU"
      },
      "execution_count": null,
      "outputs": []
    },
    {
      "cell_type": "code",
      "source": [
        "class_names = os.listdir(train_folder) # Get names of classes\n",
        "class_name2id = { label: index for index, label in enumerate(class_names) } # Map class names to integer labels"
      ],
      "metadata": {
        "id": "WxWPpd_rt2DK"
      },
      "execution_count": null,
      "outputs": []
    },
    {
      "cell_type": "code",
      "source": [
        "class_names"
      ],
      "metadata": {
        "colab": {
          "base_uri": "https://localhost:8080/"
        },
        "id": "CJ5Ct-Dv3aiJ",
        "outputId": "a8cd27ba-a7ee-42d5-cbeb-12c38e3c16a7"
      },
      "execution_count": null,
      "outputs": [
        {
          "output_type": "execute_result",
          "data": {
            "text/plain": [
              "['bbps-0-1',\n",
              " 'bbps-2-3',\n",
              " 'cecum',\n",
              " 'ulcerative-colitis-grade-2',\n",
              " 'dyed-resection-margins',\n",
              " 'pylorus',\n",
              " 'z-line',\n",
              " 'retroflex-stomach',\n",
              " 'esophagitis-a',\n",
              " 'retroflex-rectum',\n",
              " 'polyps',\n",
              " 'dyed-lifted-polyps']"
            ]
          },
          "metadata": {},
          "execution_count": 8
        }
      ]
    },
    {
      "cell_type": "code",
      "source": [
        "# Directory with class pictures\n",
        "for i in range(len(class_names)):\n",
        "    locals()[\"class\"+str(i)] = os.path.join(train_folder, class_names[i])"
      ],
      "metadata": {
        "id": "oSwiodaSt2GT"
      },
      "execution_count": null,
      "outputs": []
    },
    {
      "cell_type": "code",
      "source": [
        "class_cnt = []\n",
        "for k in range(len(class_names)):\n",
        "  class_cnt.append(len(os.listdir(locals()[\"class\"+str(k)])))\n",
        "  print(\"Number of images in\",class_names[k],\":\", len(os.listdir(locals()[\"class\"+str(k)])))"
      ],
      "metadata": {
        "colab": {
          "base_uri": "https://localhost:8080/"
        },
        "id": "sZkgbumC3isk",
        "outputId": "05403b4b-a54f-4019-89e8-6d237fcbafcd"
      },
      "execution_count": null,
      "outputs": [
        {
          "output_type": "stream",
          "name": "stdout",
          "text": [
            "Number of images in bbps-0-1 : 400\n",
            "Number of images in bbps-2-3 : 500\n",
            "Number of images in cecum : 518\n",
            "Number of images in ulcerative-colitis-grade-2 : 300\n",
            "Number of images in dyed-resection-margins : 500\n",
            "Number of images in pylorus : 509\n",
            "Number of images in z-line : 500\n",
            "Number of images in retroflex-stomach : 502\n",
            "Number of images in esophagitis-a : 200\n",
            "Number of images in retroflex-rectum : 200\n",
            "Number of images in polyps : 506\n",
            "Number of images in dyed-lifted-polyps : 517\n"
          ]
        }
      ]
    },
    {
      "cell_type": "code",
      "source": [
        "sum(class_cnt)"
      ],
      "metadata": {
        "colab": {
          "base_uri": "https://localhost:8080/"
        },
        "id": "z6YLKPGKAz4p",
        "outputId": "f7c8bf7a-563f-42a0-e765-464361ba4fef"
      },
      "execution_count": null,
      "outputs": [
        {
          "output_type": "execute_result",
          "data": {
            "text/plain": [
              "5152"
            ]
          },
          "metadata": {},
          "execution_count": 11
        }
      ]
    },
    {
      "cell_type": "code",
      "source": [
        "# Directory with class pictures\n",
        "for i in range(len(class_names)):\n",
        "    locals()[\"val\"+str(i)] = os.path.join(val_folder, class_names[i])"
      ],
      "metadata": {
        "id": "-dKW84p2AP8I"
      },
      "execution_count": null,
      "outputs": []
    },
    {
      "cell_type": "code",
      "source": [
        "val_cnt = []\n",
        "for k in range(len(class_names)):\n",
        "  val_cnt.append(len(os.listdir(locals()[\"val\"+str(k)])))\n",
        "  print(\"Number of images in\",class_names[k],\":\", len(os.listdir(locals()[\"val\"+str(k)])))"
      ],
      "metadata": {
        "colab": {
          "base_uri": "https://localhost:8080/"
        },
        "id": "ES15wUC9AFCO",
        "outputId": "3d7a470b-e120-425f-a887-2b7b1f8e1f7c"
      },
      "execution_count": null,
      "outputs": [
        {
          "output_type": "stream",
          "name": "stdout",
          "text": [
            "Number of images in bbps-0-1 : 100\n",
            "Number of images in bbps-2-3 : 200\n",
            "Number of images in cecum : 100\n",
            "Number of images in ulcerative-colitis-grade-2 : 80\n",
            "Number of images in dyed-resection-margins : 200\n",
            "Number of images in pylorus : 200\n",
            "Number of images in z-line : 200\n",
            "Number of images in retroflex-stomach : 100\n",
            "Number of images in esophagitis-a : 100\n",
            "Number of images in retroflex-rectum : 80\n",
            "Number of images in polyps : 200\n",
            "Number of images in dyed-lifted-polyps : 101\n"
          ]
        }
      ]
    },
    {
      "cell_type": "code",
      "source": [
        "sum(val_cnt)"
      ],
      "metadata": {
        "colab": {
          "base_uri": "https://localhost:8080/"
        },
        "id": "5UQ3eWZuAvwO",
        "outputId": "549622c4-1b32-47b8-ebba-fbe886d446d5"
      },
      "execution_count": null,
      "outputs": [
        {
          "output_type": "execute_result",
          "data": {
            "text/plain": [
              "1661"
            ]
          },
          "metadata": {},
          "execution_count": 14
        }
      ]
    },
    {
      "cell_type": "code",
      "source": [
        "# Directory with class pictures\n",
        "for i in range(len(class_names)):\n",
        "    locals()[\"test\"+str(i)] = os.path.join(test_folder, class_names[i])"
      ],
      "metadata": {
        "id": "ftw-3R-TAY9L"
      },
      "execution_count": null,
      "outputs": []
    },
    {
      "cell_type": "code",
      "source": [
        "test_cnt = []\n",
        "for k in range(len(class_names)):\n",
        "  try:\n",
        "    test_cnt.append(len(os.listdir(locals()[\"test\"+str(k)])))\n",
        "    print(\"Number of images in\",class_names[k],\":\", len(os.listdir(locals()[\"test\"+str(k)])))\n",
        "  except:\n",
        "    test_cnt.append(0)\n",
        "    print(\"Number of images in\",class_names[k],\":\", 0)"
      ],
      "metadata": {
        "colab": {
          "base_uri": "https://localhost:8080/"
        },
        "id": "CaabrteJAWxM",
        "outputId": "e4109bcd-9a48-48d4-e635-acd069062f18"
      },
      "execution_count": null,
      "outputs": [
        {
          "output_type": "stream",
          "name": "stdout",
          "text": [
            "Number of images in bbps-0-1 : 74\n",
            "Number of images in bbps-2-3 : 106\n",
            "Number of images in cecum : 95\n",
            "Number of images in ulcerative-colitis-grade-2 : 26\n",
            "Number of images in dyed-resection-margins : 105\n",
            "Number of images in pylorus : 105\n",
            "Number of images in z-line : 109\n",
            "Number of images in retroflex-stomach : 68\n",
            "Number of images in esophagitis-a : 37\n",
            "Number of images in retroflex-rectum : 41\n",
            "Number of images in polyps : 96\n",
            "Number of images in dyed-lifted-polyps : 102\n"
          ]
        }
      ]
    },
    {
      "cell_type": "code",
      "source": [
        "sum(test_cnt)"
      ],
      "metadata": {
        "colab": {
          "base_uri": "https://localhost:8080/"
        },
        "id": "dJjgw61NArpi",
        "outputId": "8abf4574-e55b-4583-8813-62bede437d08"
      },
      "execution_count": null,
      "outputs": [
        {
          "output_type": "execute_result",
          "data": {
            "text/plain": [
              "964"
            ]
          },
          "metadata": {},
          "execution_count": 17
        }
      ]
    },
    {
      "cell_type": "code",
      "source": [
        "import matplotlib.pyplot as plt\n",
        "\n",
        "def valuelabel(weight,students):\n",
        "    for i in range(len(weight)):\n",
        "        plt.text(i,students[i],students[i], ha = 'center',\n",
        "                 bbox = dict(facecolor = 'cyan', alpha =0.8))\n",
        "\n",
        "\n",
        "# making the bar chart on the data\n",
        "plt.bar(class_names, class_cnt)\n",
        "\n",
        "valuelabel(class_names, class_cnt) \n",
        "  \n",
        "# giving title to the plot\n",
        "plt.title(\"Distribution of the 12 classes in the training dataset\")\n",
        "  \n",
        "# giving X and Y labels\n",
        "plt.xlabel(\"Class Names\")\n",
        "plt.ylabel(\"Count of classes\")\n",
        "\n",
        "plt.xticks(rotation='vertical')\n",
        "\n",
        "# visualizing the plot\n",
        "plt.show()\n",
        "\n"
      ],
      "metadata": {
        "colab": {
          "base_uri": "https://localhost:8080/",
          "height": 411
        },
        "id": "tdY1fPhHz2Rr",
        "outputId": "d3bd8c1d-9948-4f1c-8bcc-5dfc07ae2025"
      },
      "execution_count": null,
      "outputs": [
        {
          "output_type": "display_data",
          "data": {
            "image/png": "[encoded data removed]",
            "text/plain": [
              "<Figure size 432x288 with 1 Axes>"
            ]
          },
          "metadata": {
            "needs_background": "light"
          }
        }
      ]
    },
    {
      "cell_type": "code",
      "source": [
        "# making the bar chart on the data\n",
        "plt.bar(class_names, val_cnt)\n",
        "\n",
        "valuelabel(class_names, val_cnt) \n",
        "  \n",
        "# giving title to the plot\n",
        "plt.title(\"Distribution of the 12 classes in the validation dataset\")\n",
        "  \n",
        "# giving X and Y labels\n",
        "plt.xlabel(\"Class Names\")\n",
        "plt.ylabel(\"Count of classes\")\n",
        "\n",
        "plt.xticks(rotation='vertical')\n",
        "\n",
        "# visualizing the plot\n",
        "plt.show()"
      ],
      "metadata": {
        "colab": {
          "base_uri": "https://localhost:8080/",
          "height": 411
        },
        "id": "fVNHPFFOBQxM",
        "outputId": "195a5fb0-8495-4ad1-f029-4107dbba1a12"
      },
      "execution_count": null,
      "outputs": [
        {
          "output_type": "display_data",
          "data": {
            "image/png": "[encoded data removed]",
            "text/plain": [
              "<Figure size 432x288 with 1 Axes>"
            ]
          },
          "metadata": {
            "needs_background": "light"
          }
        }
      ]
    },
    {
      "cell_type": "code",
      "source": [
        "# making the bar chart on the data\n",
        "plt.bar(class_names, test_cnt)\n",
        "\n",
        "valuelabel(class_names, test_cnt) \n",
        "  \n",
        "# giving title to the plot\n",
        "plt.title(\"Distribution of the 12 classes in the test dataset\")\n",
        "  \n",
        "# giving X and Y labels\n",
        "plt.xlabel(\"Class Names\")\n",
        "plt.ylabel(\"Count of classes\")\n",
        "\n",
        "plt.xticks(rotation='vertical')\n",
        "\n",
        "# visualizing the plot\n",
        "plt.show()"
      ],
      "metadata": {
        "colab": {
          "base_uri": "https://localhost:8080/",
          "height": 411
        },
        "id": "q4cHPlFXBQme",
        "outputId": "7caff176-e28d-45f1-ef51-88fd7ad4a176"
      },
      "execution_count": null,
      "outputs": [
        {
          "output_type": "display_data",
          "data": {
            "image/png": "[encoded data removed]",
            "text/plain": [
              "<Figure size 432x288 with 1 Axes>"
            ]
          },
          "metadata": {
            "needs_background": "light"
          }
        }
      ]
    },
    {
      "cell_type": "code",
      "source": [
        "train_datagen = ImageDataGenerator(\n",
        "        rescale = 1./255.,\n",
        "        featurewise_center=False,  # set input mean to 0 over the dataset\n",
        "        samplewise_center=False,  # set each sample mean to 0\n",
        "        featurewise_std_normalization=False,  # divide inputs by std of the dataset\n",
        "        samplewise_std_normalization=False,  # divide each input by its std\n",
        "        zca_whitening=False,  # apply ZCA whitening\n",
        "        rotation_range = 40,  # randomly rotate images in the range (degrees, 0 to 180)\n",
        "        zoom_range = 0.2, # Randomly zoom image \n",
        "        shear_range = 0.2,\n",
        "        width_shift_range=0.2,  # randomly shift images horizontally (fraction of total width)\n",
        "        height_shift_range=0.2,  # randomly shift images vertically (fraction of total height)\n",
        "        horizontal_flip = True,  # randomly flip images\n",
        "        vertical_flip=False)  # randomly flip images"
      ],
      "metadata": {
        "id": "ZwsX-Fwu64ka"
      },
      "execution_count": null,
      "outputs": []
    },
    {
      "cell_type": "code",
      "source": [
        "batch_size = 128"
      ],
      "metadata": {
        "id": "bNMDi5Si7Ecw"
      },
      "execution_count": null,
      "outputs": []
    },
    {
      "cell_type": "code",
      "source": [
        "train_generator = train_datagen.flow_from_directory(train_folder, batch_size = batch_size, classes = class_names, class_mode = 'categorical', target_size = (200, 200))"
      ],
      "metadata": {
        "colab": {
          "base_uri": "https://localhost:8080/"
        },
        "id": "9FzV4RJvOyKa",
        "outputId": "4eed53b1-da39-425e-bbb4-2a26b1dd0d93"
      },
      "execution_count": null,
      "outputs": [
        {
          "output_type": "stream",
          "name": "stdout",
          "text": [
            "Found 5152 images belonging to 12 classes.\n"
          ]
        }
      ]
    },
    {
      "cell_type": "code",
      "source": [
        "# All images will be rescaled by 1./255\n",
        "test_datagen = ImageDataGenerator(rescale=1/255)\n",
        "\n",
        "# Flow training images in batches of 128 using train_datagen generator\n",
        "val_generator = test_datagen.flow_from_directory(\n",
        "        val_folder,  # This is the source directory for training images\n",
        "        target_size=(200, 200),  # All images will be resized to 200 x 200\n",
        "        batch_size=batch_size,\n",
        "        # Specify the classes explicitly\n",
        "        classes = class_names,\n",
        "        # Since we use categorical_crossentropy loss, we need categorical labels\n",
        "        class_mode='categorical',\n",
        "        shuffle=False)\n",
        "\n",
        "# Flow training images in batches of 128 using train_datagen generator\n",
        "test_generator = test_datagen.flow_from_directory(\n",
        "        test_folder,  # This is the source directory for training images\n",
        "        target_size=(200, 200),  # All images will be resized to 200 x 200\n",
        "        batch_size=batch_size,\n",
        "        # Specify the classes explicitly\n",
        "        classes = class_names,\n",
        "        # Since we use categorical_crossentropy loss, we need categorical labels\n",
        "        class_mode='categorical',\n",
        "        shuffle=False)"
      ],
      "metadata": {
        "colab": {
          "base_uri": "https://localhost:8080/"
        },
        "id": "TG51POzyPDgO",
        "outputId": "beb4270f-3054-47c4-8fa1-30c9b7c76aa2"
      },
      "execution_count": null,
      "outputs": [
        {
          "output_type": "stream",
          "name": "stdout",
          "text": [
            "Found 1660 images belonging to 12 classes.\n",
            "Found 964 images belonging to 12 classes.\n"
          ]
        }
      ]
    },
    {
      "cell_type": "code",
      "source": [
        ""
      ],
      "metadata": {
        "id": "52JtvWBq7_tM"
      },
      "execution_count": null,
      "outputs": []
    },
    {
      "cell_type": "markdown",
      "source": [
        "# **Method 2**"
      ],
      "metadata": {
        "id": "kkDl8aFWPqEf"
      }
    },
    {
      "cell_type": "code",
      "source": [
        "from keras.utils.np_utils import to_categorical \n",
        "test_labels = test_generator.classes  \n",
        "test_labels = to_categorical(test_labels, num_classes=len(class_names)) "
      ],
      "metadata": {
        "id": "N3dz6pIt3ZFF"
      },
      "execution_count": null,
      "outputs": []
    },
    {
      "cell_type": "code",
      "source": [
        "len(test_labels)"
      ],
      "metadata": {
        "colab": {
          "base_uri": "https://localhost:8080/"
        },
        "id": "RiDV6LJ03mi9",
        "outputId": "426a9aaa-5667-4f92-c45b-b54a0096b291"
      },
      "execution_count": null,
      "outputs": [
        {
          "output_type": "execute_result",
          "data": {
            "text/plain": [
              "964"
            ]
          },
          "metadata": {},
          "execution_count": 23
        }
      ]
    },
    {
      "cell_type": "code",
      "source": [
        "model = tf.keras.models.Sequential([\n",
        "    # Note the input shape is the desired size of the image 200x 200 with 3 bytes color\n",
        "    # The first convolution\n",
        "    tf.keras.layers.Conv2D(16, (3,3), activation='relu', input_shape=(200, 200, 3)),\n",
        "    tf.keras.layers.MaxPooling2D(2, 2),\n",
        "    # The second convolution\n",
        "    tf.keras.layers.Conv2D(32, (3,3), activation='relu'),\n",
        "    tf.keras.layers.MaxPooling2D(2,2),\n",
        "    # The third convolution\n",
        "    tf.keras.layers.Conv2D(64, (3,3), activation='relu'),\n",
        "    tf.keras.layers.MaxPooling2D(2,2),\n",
        "    # The fourth convolution\n",
        "    tf.keras.layers.Conv2D(64, (3,3), activation='relu'),\n",
        "    tf.keras.layers.MaxPooling2D(2,2),\n",
        "    # The fifth convolution\n",
        "    tf.keras.layers.Conv2D(64, (3,3), activation='relu'),\n",
        "    tf.keras.layers.MaxPooling2D(2,2),\n",
        "    # Flatten the results to feed into a dense layer\n",
        "    tf.keras.layers.Flatten(),\n",
        "    # 128 neuron in the fully-connected layer\n",
        "    tf.keras.layers.Dense(128, activation='relu'),\n",
        "    # 12 output neurons for 12 classes with the softmax activation\n",
        "    tf.keras.layers.Dense(12, activation='softmax')\n",
        "])\n",
        "model.summary()"
      ],
      "metadata": {
        "colab": {
          "base_uri": "https://localhost:8080/"
        },
        "id": "uABhKKT47Eip",
        "outputId": "86e9c212-612a-48fd-ca5a-ac93fff0fda9"
      },
      "execution_count": null,
      "outputs": [
        {
          "output_type": "stream",
          "name": "stdout",
          "text": [
            "Model: \"sequential\"\n",
            "_________________________________________________________________\n",
            " Layer (type)                Output Shape              Param #   \n",
            "=================================================================\n",
            " conv2d (Conv2D)             (None, 198, 198, 16)      448       \n",
            "                                                                 \n",
            " max_pooling2d (MaxPooling2D  (None, 99, 99, 16)       0         \n",
            " )                                                               \n",
            "                                                                 \n",
            " conv2d_1 (Conv2D)           (None, 97, 97, 32)        4640      \n",
            "                                                                 \n",
            " max_pooling2d_1 (MaxPooling  (None, 48, 48, 32)       0         \n",
            " 2D)                                                             \n",
            "                                                                 \n",
            " conv2d_2 (Conv2D)           (None, 46, 46, 64)        18496     \n",
            "                                                                 \n",
            " max_pooling2d_2 (MaxPooling  (None, 23, 23, 64)       0         \n",
            " 2D)                                                             \n",
            "                                                                 \n",
            " conv2d_3 (Conv2D)           (None, 21, 21, 64)        36928     \n",
            "                                                                 \n",
            " max_pooling2d_3 (MaxPooling  (None, 10, 10, 64)       0         \n",
            " 2D)                                                             \n",
            "                                                                 \n",
            " conv2d_4 (Conv2D)           (None, 8, 8, 64)          36928     \n",
            "                                                                 \n",
            " max_pooling2d_4 (MaxPooling  (None, 4, 4, 64)         0         \n",
            " 2D)                                                             \n",
            "                                                                 \n",
            " flatten (Flatten)           (None, 1024)              0         \n",
            "                                                                 \n",
            " dense (Dense)               (None, 128)               131200    \n",
            "                                                                 \n",
            " dense_1 (Dense)             (None, 12)                1548      \n",
            "                                                                 \n",
            "=================================================================\n",
            "Total params: 230,188\n",
            "Trainable params: 230,188\n",
            "Non-trainable params: 0\n",
            "_________________________________________________________________\n"
          ]
        }
      ]
    },
    {
      "cell_type": "code",
      "source": [
        "model.compile(loss='categorical_crossentropy',\n",
        "              optimizer=RMSprop(lr=0.001),\n",
        "              metrics=['acc'])"
      ],
      "metadata": {
        "colab": {
          "base_uri": "https://localhost:8080/"
        },
        "id": "yiemKYxf7Elo",
        "outputId": "6e49960e-e424-4c89-a63f-bd6e80dfae74"
      },
      "execution_count": null,
      "outputs": [
        {
          "output_type": "stream",
          "name": "stderr",
          "text": [
            "/usr/local/lib/python3.7/dist-packages/keras/optimizer_v2/rmsprop.py:130: UserWarning: The `lr` argument is deprecated, use `learning_rate` instead.\n",
            "  super(RMSprop, self).__init__(name, **kwargs)\n"
          ]
        }
      ]
    },
    {
      "cell_type": "code",
      "source": [
        "total_sample=train_generator.n"
      ],
      "metadata": {
        "id": "U1e2S7BJ8WUJ"
      },
      "execution_count": null,
      "outputs": []
    },
    {
      "cell_type": "code",
      "source": [
        "val_sample = val_generator.n"
      ],
      "metadata": {
        "id": "lJtIy34A4ib7"
      },
      "execution_count": null,
      "outputs": []
    },
    {
      "cell_type": "code",
      "source": [
        "n_epochs = 30"
      ],
      "metadata": {
        "id": "VJIIa3nY8WXY"
      },
      "execution_count": null,
      "outputs": []
    },
    {
      "cell_type": "code",
      "source": [
        "from sklearn.utils import class_weight\n",
        "import numpy as np\n",
        "\n",
        "# class_weights = class_weight.compute_class_weight(\n",
        "#            'balanced',\n",
        "#             np.unique(train_generator.classes), \n",
        "#             train_generator.classes)\n",
        "\n",
        "class_weights = class_weight.compute_class_weight(\n",
        "                                        class_weight = \"balanced\",\n",
        "                                        classes = np.unique(train_generator.classes),\n",
        "                                        y = train_generator.classes                                                    \n",
        "                                    )\n",
        "class_weights = dict(zip(np.unique(train_generator.classes), class_weights))\n",
        "class_weights"
      ],
      "metadata": {
        "colab": {
          "base_uri": "https://localhost:8080/"
        },
        "id": "76t7K24o0GMj",
        "outputId": "a715b835-17c0-443c-f667-2099d6c804a8"
      },
      "execution_count": null,
      "outputs": [
        {
          "output_type": "execute_result",
          "data": {
            "text/plain": [
              "{0: 1.0733333333333333,\n",
              " 1: 0.8586666666666667,\n",
              " 2: 0.8288288288288288,\n",
              " 3: 1.431111111111111,\n",
              " 4: 0.8586666666666667,\n",
              " 5: 0.8434839554682384,\n",
              " 6: 0.8586666666666667,\n",
              " 7: 0.8552456839309429,\n",
              " 8: 2.1466666666666665,\n",
              " 9: 2.1466666666666665,\n",
              " 10: 0.8484848484848485,\n",
              " 11: 0.8304319793681496}"
            ]
          },
          "metadata": {},
          "execution_count": 29
        }
      ]
    },
    {
      "cell_type": "code",
      "source": [
        "dict_classes = {\n",
        " 'bbps-0-1': 0,\n",
        " 'bbps-2-3': 1,\n",
        " 'cecum': 2,\n",
        " 'ulcerative-colitis-grade-2': 3,\n",
        " 'dyed-resection-margins': 4,\n",
        " 'pylorus': 5,\n",
        " 'z-line': 6,\n",
        " 'retroflex-stomach': 7,\n",
        " 'esophagitis-a': 8,\n",
        " 'retroflex-rectum': 9,\n",
        " 'polyps': 10,\n",
        " 'dyed-lifted-polyps': 11\n",
        "}\n",
        "dict_classes"
      ],
      "metadata": {
        "colab": {
          "base_uri": "https://localhost:8080/"
        },
        "id": "bG1r4BAsK_3t",
        "outputId": "73794fb5-fb41-45c4-9658-89792e14b6c9"
      },
      "execution_count": null,
      "outputs": [
        {
          "output_type": "execute_result",
          "data": {
            "text/plain": [
              "{'bbps-0-1': 0,\n",
              " 'bbps-2-3': 1,\n",
              " 'cecum': 2,\n",
              " 'dyed-lifted-polyps': 11,\n",
              " 'dyed-resection-margins': 4,\n",
              " 'esophagitis-a': 8,\n",
              " 'polyps': 10,\n",
              " 'pylorus': 5,\n",
              " 'retroflex-rectum': 9,\n",
              " 'retroflex-stomach': 7,\n",
              " 'ulcerative-colitis-grade-2': 3,\n",
              " 'z-line': 6}"
            ]
          },
          "metadata": {},
          "execution_count": 37
        }
      ]
    },
    {
      "cell_type": "code",
      "source": [
        "train_generator.classes"
      ],
      "metadata": {
        "colab": {
          "base_uri": "https://localhost:8080/"
        },
        "id": "iiGdYTiJK6kf",
        "outputId": "76d0872d-213d-4b8e-ed85-c63dc1357d2d"
      },
      "execution_count": null,
      "outputs": [
        {
          "output_type": "execute_result",
          "data": {
            "text/plain": [
              "array([ 0,  0,  0, ..., 11, 11, 11], dtype=int32)"
            ]
          },
          "metadata": {},
          "execution_count": 35
        }
      ]
    },
    {
      "cell_type": "code",
      "source": [
        "total_sample"
      ],
      "metadata": {
        "colab": {
          "base_uri": "https://localhost:8080/"
        },
        "id": "8DWy9-fkK1v6",
        "outputId": "2257df01-e7ad-456b-ae81-d0e4060f6a95"
      },
      "execution_count": null,
      "outputs": [
        {
          "output_type": "execute_result",
          "data": {
            "text/plain": [
              "5152"
            ]
          },
          "metadata": {},
          "execution_count": 34
        }
      ]
    },
    {
      "cell_type": "code",
      "source": [
        "history = model.fit_generator(\n",
        "        train_generator,\n",
        "        steps_per_epoch=int(total_sample/batch_size),\n",
        "        epochs=n_epochs,\n",
        "        class_weight=class_weights,\n",
        "        validation_data=val_generator,\n",
        "        validation_steps=int(val_sample/batch_size),\n",
        "        verbose=1)\n",
        "model.save_weights('first_try.h5')  # always save your weights after training or during training"
      ],
      "metadata": {
        "colab": {
          "base_uri": "https://localhost:8080/"
        },
        "id": "pEgg2qIi4Qn4",
        "outputId": "fe5a755d-9947-48dd-9306-efe42449de17"
      },
      "execution_count": null,
      "outputs": [
        {
          "output_type": "stream",
          "name": "stderr",
          "text": [
            "/usr/local/lib/python3.7/dist-packages/ipykernel_launcher.py:8: UserWarning: `Model.fit_generator` is deprecated and will be removed in a future version. Please use `Model.fit`, which supports generators.\n",
            "  \n"
          ]
        },
        {
          "output_type": "stream",
          "name": "stdout",
          "text": [
            "Epoch 1/30\n",
            "40/40 [==============================] - 1218s 30s/step - loss: 2.0096 - acc: 0.2373 - val_loss: 1.3840 - val_acc: 0.4316\n",
            "Epoch 2/30\n",
            "40/40 [==============================] - 251s 6s/step - loss: 1.5825 - acc: 0.3509 - val_loss: 1.4437 - val_acc: 0.3861\n",
            "Epoch 3/30\n",
            "40/40 [==============================] - 248s 6s/step - loss: 1.4446 - acc: 0.4184 - val_loss: 1.2334 - val_acc: 0.4642\n",
            "Epoch 4/30\n",
            "40/40 [==============================] - 255s 6s/step - loss: 1.2913 - acc: 0.4814 - val_loss: 0.9326 - val_acc: 0.6921\n",
            "Epoch 5/30\n",
            "40/40 [==============================] - 253s 6s/step - loss: 1.2500 - acc: 0.4920 - val_loss: 0.9553 - val_acc: 0.6660\n",
            "Epoch 6/30\n",
            "40/40 [==============================] - 249s 6s/step - loss: 1.1873 - acc: 0.5197 - val_loss: 0.8993 - val_acc: 0.6354\n",
            "Epoch 7/30\n",
            "40/40 [==============================] - 254s 6s/step - loss: 1.0783 - acc: 0.5577 - val_loss: 0.9320 - val_acc: 0.5339\n",
            "Epoch 8/30\n",
            "40/40 [==============================] - 250s 6s/step - loss: 1.0445 - acc: 0.5784 - val_loss: 0.8613 - val_acc: 0.6862\n",
            "Epoch 9/30\n",
            "40/40 [==============================] - 251s 6s/step - loss: 1.0060 - acc: 0.6007 - val_loss: 0.7259 - val_acc: 0.7253\n",
            "Epoch 10/30\n",
            "40/40 [==============================] - 252s 6s/step - loss: 0.9519 - acc: 0.6212 - val_loss: 0.7426 - val_acc: 0.7240\n",
            "Epoch 11/30\n",
            "40/40 [==============================] - 249s 6s/step - loss: 0.9077 - acc: 0.6270 - val_loss: 0.9673 - val_acc: 0.6061\n",
            "Epoch 12/30\n",
            "40/40 [==============================] - 258s 6s/step - loss: 0.8693 - acc: 0.6535 - val_loss: 0.5898 - val_acc: 0.8014\n",
            "Epoch 13/30\n",
            "40/40 [==============================] - 256s 6s/step - loss: 0.8210 - acc: 0.6797 - val_loss: 0.9853 - val_acc: 0.5573\n",
            "Epoch 14/30\n",
            "40/40 [==============================] - 248s 6s/step - loss: 0.8197 - acc: 0.6732 - val_loss: 0.6609 - val_acc: 0.7259\n",
            "Epoch 15/30\n",
            "40/40 [==============================] - 248s 6s/step - loss: 0.7793 - acc: 0.6917 - val_loss: 0.5500 - val_acc: 0.7936\n",
            "Epoch 16/30\n",
            "40/40 [==============================] - 247s 6s/step - loss: 0.7353 - acc: 0.7080 - val_loss: 0.6730 - val_acc: 0.6556\n",
            "Epoch 17/30\n",
            "40/40 [==============================] - 261s 6s/step - loss: 0.7234 - acc: 0.7168 - val_loss: 0.6594 - val_acc: 0.7168\n",
            "Epoch 18/30\n",
            "40/40 [==============================] - 251s 6s/step - loss: 0.7298 - acc: 0.6965 - val_loss: 0.5177 - val_acc: 0.7910\n",
            "Epoch 19/30\n",
            "40/40 [==============================] - 251s 6s/step - loss: 0.7119 - acc: 0.7154 - val_loss: 0.5998 - val_acc: 0.7559\n",
            "Epoch 20/30\n",
            "40/40 [==============================] - 252s 6s/step - loss: 0.6862 - acc: 0.7213 - val_loss: 0.5986 - val_acc: 0.7181\n",
            "Epoch 21/30\n",
            "40/40 [==============================] - 249s 6s/step - loss: 0.6749 - acc: 0.7233 - val_loss: 0.5316 - val_acc: 0.7461\n",
            "Epoch 22/30\n",
            "40/40 [==============================] - 250s 6s/step - loss: 0.6744 - acc: 0.7309 - val_loss: 0.4695 - val_acc: 0.8366\n",
            "Epoch 23/30\n",
            "40/40 [==============================] - 249s 6s/step - loss: 0.6403 - acc: 0.7460 - val_loss: 0.5266 - val_acc: 0.7852\n",
            "Epoch 24/30\n",
            "40/40 [==============================] - 251s 6s/step - loss: 0.6278 - acc: 0.7400 - val_loss: 0.4624 - val_acc: 0.8359\n",
            "Epoch 25/30\n",
            "40/40 [==============================] - 251s 6s/step - loss: 0.6462 - acc: 0.7436 - val_loss: 0.6043 - val_acc: 0.7357\n",
            "Epoch 26/30\n",
            "40/40 [==============================] - 253s 6s/step - loss: 0.6042 - acc: 0.7578 - val_loss: 0.4755 - val_acc: 0.8132\n",
            "Epoch 27/30\n",
            "40/40 [==============================] - 253s 6s/step - loss: 0.5778 - acc: 0.7627 - val_loss: 0.4945 - val_acc: 0.7962\n",
            "Epoch 28/30\n",
            "40/40 [==============================] - 250s 6s/step - loss: 0.5997 - acc: 0.7552 - val_loss: 0.4979 - val_acc: 0.8047\n",
            "Epoch 29/30\n",
            "40/40 [==============================] - 250s 6s/step - loss: 0.5779 - acc: 0.7600 - val_loss: 0.3870 - val_acc: 0.8535\n",
            "Epoch 30/30\n",
            "40/40 [==============================] - 252s 6s/step - loss: 0.5587 - acc: 0.7727 - val_loss: 0.4603 - val_acc: 0.7943\n"
          ]
        }
      ]
    },
    {
      "cell_type": "code",
      "source": [
        "acc = history.history['acc']\n",
        "val_acc = history.history['val_acc']\n",
        "\n",
        "loss = history.history['loss']\n",
        "val_loss = history.history['val_loss']\n",
        "\n",
        "epochs_range = range(n_epochs)\n",
        "\n",
        "plt.figure(figsize=(8, 8))\n",
        "plt.subplot(1, 2, 1)\n",
        "plt.plot(epochs_range, acc, label='Training Accuracy')\n",
        "plt.plot(epochs_range, val_acc, label='Validation Accuracy')\n",
        "plt.legend(loc='lower right')\n",
        "plt.title('Training and Validation Accuracy')\n",
        "\n",
        "plt.subplot(1, 2, 2)\n",
        "plt.plot(epochs_range, loss, label='Training Loss')\n",
        "plt.plot(epochs_range, val_loss, label='Validation Loss')\n",
        "plt.legend(loc='upper right')\n",
        "plt.title('Training and Validation Loss')\n",
        "plt.show()"
      ],
      "metadata": {
        "colab": {
          "base_uri": "https://localhost:8080/",
          "height": 499
        },
        "id": "sPVDxotFmuVu",
        "outputId": "bfcd26b7-f9b8-4e98-b672-0a29a216b565"
      },
      "execution_count": null,
      "outputs": [
        {
          "output_type": "display_data",
          "data": {
            "image/png": "[encoded data removed]",
            "text/plain": [
              "<Figure size 576x576 with 2 Axes>"
            ]
          },
          "metadata": {
            "needs_background": "light"
          }
        }
      ]
    },
    {
      "cell_type": "code",
      "source": [
        "plt.figure(figsize=(7,4))\n",
        "plt.plot([i+1 for i in range(n_epochs)],history.history['acc'],'-o',c='k',lw=2,markersize=9)\n",
        "plt.grid(True)\n",
        "plt.title(\"Training accuracy with epochs\\n\",fontsize=18)\n",
        "plt.xlabel(\"Training epochs\",fontsize=15)\n",
        "plt.ylabel(\"Training accuracy\",fontsize=15)\n",
        "plt.xticks(fontsize=15)\n",
        "plt.yticks(fontsize=15)\n",
        "plt.show()"
      ],
      "metadata": {
        "colab": {
          "base_uri": "https://localhost:8080/",
          "height": 330
        },
        "id": "OXolUnyM8xtU",
        "outputId": "4f14a71c-28e7-4fbe-e62b-4dddb7cf7b29"
      },
      "execution_count": null,
      "outputs": [
        {
          "output_type": "display_data",
          "data": {
            "image/png": "[encoded data removed]",
            "text/plain": [
              "<Figure size 504x288 with 1 Axes>"
            ]
          },
          "metadata": {
            "needs_background": "light"
          }
        }
      ]
    },
    {
      "cell_type": "code",
      "source": [
        "plt.figure(figsize=(7,4))\n",
        "plt.plot([i+1 for i in range(n_epochs)],history.history['loss'],'-o',c='k',lw=2,markersize=9)\n",
        "plt.grid(True)\n",
        "plt.title(\"Training loss with epochs\\n\",fontsize=18)\n",
        "plt.xlabel(\"Training epochs\",fontsize=15)\n",
        "plt.ylabel(\"Training loss\",fontsize=15)\n",
        "plt.xticks(fontsize=15)\n",
        "plt.yticks(fontsize=15)\n",
        "plt.show()"
      ],
      "metadata": {
        "colab": {
          "base_uri": "https://localhost:8080/",
          "height": 330
        },
        "id": "aVPWdRMw8xxY",
        "outputId": "69b5e01f-d7b1-45b4-ea94-c02e7ee6a614"
      },
      "execution_count": null,
      "outputs": [
        {
          "output_type": "display_data",
          "data": {
            "image/png": "[encoded data removed]",
            "text/plain": [
              "<Figure size 504x288 with 1 Axes>"
            ]
          },
          "metadata": {
            "needs_background": "light"
          }
        }
      ]
    },
    {
      "cell_type": "code",
      "source": [
        "pred = np.round(model.predict(test_generator),0)"
      ],
      "metadata": {
        "id": "--6YV_O08x05"
      },
      "execution_count": null,
      "outputs": []
    },
    {
      "cell_type": "code",
      "source": [
        "pred[0]"
      ],
      "metadata": {
        "colab": {
          "base_uri": "https://localhost:8080/"
        },
        "id": "QMV8-c9G3zD7",
        "outputId": "9586680b-d36e-4983-e813-6c5041b75b57"
      },
      "execution_count": null,
      "outputs": [
        {
          "output_type": "execute_result",
          "data": {
            "text/plain": [
              "array([1., 0., 0., 0., 0., 0., 0., 0., 0., 0., 0., 0.], dtype=float32)"
            ]
          },
          "metadata": {},
          "execution_count": 39
        }
      ]
    },
    {
      "cell_type": "code",
      "source": [
        "classification_metrics = metrics.classification_report(test_labels, pred)\n",
        "print(classification_metrics)"
      ],
      "metadata": {
        "colab": {
          "base_uri": "https://localhost:8080/"
        },
        "id": "uYMV--Zb8x4B",
        "outputId": "f2407e68-8fd2-4919-f531-e2368b4c4117"
      },
      "execution_count": null,
      "outputs": [
        {
          "output_type": "stream",
          "name": "stdout",
          "text": [
            "              precision    recall  f1-score   support\n",
            "\n",
            "           0       0.97      0.92      0.94        74\n",
            "           1       0.95      1.00      0.98       106\n",
            "           2       0.89      0.94      0.91        95\n",
            "           3       0.67      0.62      0.64        26\n",
            "           4       0.75      0.42      0.54       105\n",
            "           5       0.97      0.93      0.95       105\n",
            "           6       0.88      0.40      0.55       109\n",
            "           7       0.97      0.97      0.97        68\n",
            "           8       0.32      0.81      0.46        37\n",
            "           9       0.89      0.95      0.92        41\n",
            "          10       1.00      0.89      0.94        96\n",
            "          11       0.60      0.84      0.70       102\n",
            "\n",
            "   micro avg       0.81      0.80      0.81       964\n",
            "   macro avg       0.82      0.81      0.79       964\n",
            "weighted avg       0.85      0.80      0.80       964\n",
            " samples avg       0.80      0.80      0.80       964\n",
            "\n"
          ]
        },
        {
          "output_type": "stream",
          "name": "stderr",
          "text": [
            "/usr/local/lib/python3.7/dist-packages/sklearn/metrics/_classification.py:1318: UndefinedMetricWarning: Precision and F-score are ill-defined and being set to 0.0 in samples with no predicted labels. Use `zero_division` parameter to control this behavior.\n",
            "  _warn_prf(average, modifier, msg_start, len(result))\n"
          ]
        }
      ]
    },
    {
      "cell_type": "code",
      "source": [
        "import pandas as pd\n",
        "import itertools"
      ],
      "metadata": {
        "id": "VocLblzg_aPo"
      },
      "execution_count": null,
      "outputs": []
    },
    {
      "cell_type": "code",
      "source": [
        "test_labels_tentative = pd.DataFrame(test_labels).idxmax(axis=1)\n",
        "preds_tentative = pd.DataFrame(pred).idxmax(axis=1)"
      ],
      "metadata": {
        "id": "Qm8Ehy1n_Ilf"
      },
      "execution_count": null,
      "outputs": []
    },
    {
      "cell_type": "code",
      "source": [
        "confusion_matrix = confusion_matrix(test_labels_tentative, preds_tentative)\n",
        "confusion_matrix"
      ],
      "metadata": {
        "colab": {
          "base_uri": "https://localhost:8080/"
        },
        "id": "j6b0geaf_IoM",
        "outputId": "86af6c61-f942-4bdc-9769-a64996f2dee8"
      },
      "execution_count": null,
      "outputs": [
        {
          "output_type": "execute_result",
          "data": {
            "text/plain": [
              "array([[ 69,   4,   1,   0,   0,   0,   0,   0,   0,   0,   0,   0],\n",
              "       [  0, 106,   0,   0,   0,   0,   0,   0,   0,   0,   0,   0],\n",
              "       [  1,   0,  89,   5,   0,   0,   0,   0,   0,   0,   0,   0],\n",
              "       [  1,   1,   7,  16,   0,   0,   0,   0,   0,   1,   0,   0],\n",
              "       [  2,   0,   0,   0,  44,   0,   0,   0,   0,   1,   0,  58],\n",
              "       [  4,   0,   0,   2,   0,  98,   1,   0,   0,   0,   0,   0],\n",
              "       [  1,   0,   0,   0,   0,   0,  44,   1,  63,   0,   0,   0],\n",
              "       [  1,   0,   0,   0,   0,   0,   0,  66,   0,   1,   0,   0],\n",
              "       [  2,   0,   0,   0,   0,   0,   5,   0,  30,   0,   0,   0],\n",
              "       [  1,   0,   0,   0,   0,   0,   0,   1,   0,  39,   0,   0],\n",
              "       [  2,   0,   3,   1,   0,   3,   0,   0,   0,   2,  85,   0],\n",
              "       [  1,   0,   0,   0,  15,   0,   0,   0,   0,   0,   0,  86]])"
            ]
          },
          "metadata": {},
          "execution_count": 43
        }
      ]
    }
  ]
}