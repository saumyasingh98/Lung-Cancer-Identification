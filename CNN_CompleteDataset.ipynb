{
  "nbformat": 4,
  "nbformat_minor": 0,
  "metadata": {
    "colab": {
      "name": "CNN_CompleteDataset.ipynb",
      "provenance": []
    },
    "kernelspec": {
      "name": "python3",
      "display_name": "Python 3"
    },
    "language_info": {
      "name": "python"
    }
  },
  "cells": [
    {
      "cell_type": "code",
      "execution_count": null,
      "metadata": {
        "colab": {
          "base_uri": "https://localhost:8080/"
        },
        "id": "hfKyukUss5uM",
        "outputId": "25ddc03d-a79c-4c8e-cbf5-236d28126248"
      },
      "outputs": [
        {
          "output_type": "stream",
          "name": "stdout",
          "text": [
            "Mounted at /content/gdrive\n"
          ]
        }
      ],
      "source": [
        "from google.colab import drive\n",
        "drive.mount('/content/gdrive')"
      ]
    },
    {
      "cell_type": "code",
      "source": [
        "import os\n",
        "from tensorflow.keras.preprocessing.image import ImageDataGenerator\n",
        "import tensorflow as tf\n",
        "from tensorflow.keras.optimizers import Adam\n",
        "import matplotlib.pyplot as plt\n",
        "from sklearn import metrics\n",
        "from sklearn.metrics import confusion_matrix\n",
        "from tensorflow.keras.applications import EfficientNetB0\n",
        "from keras.layers import Dropout, Dense, Flatten"
      ],
      "metadata": {
        "id": "WigsR8EXwg6x"
      },
      "execution_count": null,
      "outputs": []
    },
    {
      "cell_type": "code",
      "source": [
        "import pandas as pd\n",
        "import numpy as np\n",
        "import os\n",
        "import tensorflow as tf\n",
        "import cv2\n",
        "from tensorflow import keras\n",
        "from tensorflow.keras import layers, Input\n",
        "from tensorflow.keras.layers import Dense, InputLayer, Flatten\n",
        "from tensorflow.keras.models import Sequential, Model\n",
        "from  matplotlib import pyplot as plt\n",
        "import matplotlib.image as mpimg\n",
        "%matplotlib inline"
      ],
      "metadata": {
        "id": "x3EobqTGafCP"
      },
      "execution_count": null,
      "outputs": []
    },
    {
      "cell_type": "code",
      "source": [
        "from imblearn.over_sampling import SMOTE"
      ],
      "metadata": {
        "id": "Wb5Xuxakorc9"
      },
      "execution_count": null,
      "outputs": []
    },
    {
      "cell_type": "code",
      "source": [
        "from keras import Model"
      ],
      "metadata": {
        "id": "-3TbJAbcU4S_"
      },
      "execution_count": null,
      "outputs": []
    },
    {
      "cell_type": "code",
      "source": [
        "train_folder = '/content/gdrive/My Drive/lung _cancer_Dataset/train/'\n",
        "val_folder = '/content/gdrive/My Drive/lung _cancer_Dataset/valid/'\n",
        "test_folder = '/content/gdrive/My Drive/lung _cancer_Dataset/test/'"
      ],
      "metadata": {
        "id": "3suLKlu9t2AU"
      },
      "execution_count": null,
      "outputs": []
    },
    {
      "cell_type": "code",
      "source": [
        "class_names = os.listdir(train_folder) # Get names of classes\n",
        "class_name2id = { label: index for index, label in enumerate(class_names) } # Map class names to integer labels"
      ],
      "metadata": {
        "id": "WxWPpd_rt2DK"
      },
      "execution_count": null,
      "outputs": []
    },
    {
      "cell_type": "code",
      "source": [
        "class_names"
      ],
      "metadata": {
        "colab": {
          "base_uri": "https://localhost:8080/"
        },
        "id": "CJ5Ct-Dv3aiJ",
        "outputId": "7a9f395d-36b2-4d03-ed9d-92bf829499b4"
      },
      "execution_count": null,
      "outputs": [
        {
          "output_type": "execute_result",
          "data": {
            "text/plain": [
              "['pylorus',\n",
              " 'retroflex-stomach',\n",
              " 'polyps',\n",
              " 'dyed-lifted-polyps',\n",
              " 'ulcerative-colitis-grade-2',\n",
              " 'bbps-0-1',\n",
              " 'retroflex-rectum',\n",
              " 'cecum',\n",
              " 'esophagitis-a',\n",
              " 'bbps-2-3',\n",
              " 'z-line',\n",
              " 'dyed-resection-margins']"
            ]
          },
          "metadata": {},
          "execution_count": 8
        }
      ]
    },
    {
      "cell_type": "code",
      "source": [
        "# Directory with class pictures\n",
        "for i in range(len(class_names)):\n",
        "    locals()[\"class\"+str(i)] = os.path.join(train_folder, class_names[i])"
      ],
      "metadata": {
        "id": "oSwiodaSt2GT"
      },
      "execution_count": null,
      "outputs": []
    },
    {
      "cell_type": "code",
      "source": [
        "class_cnt = []\n",
        "for k in range(len(class_names)):\n",
        "  class_cnt.append(len(os.listdir(locals()[\"class\"+str(k)])))\n",
        "  print(\"Number of images in\",class_names[k],\":\", len(os.listdir(locals()[\"class\"+str(k)])))"
      ],
      "metadata": {
        "colab": {
          "base_uri": "https://localhost:8080/"
        },
        "id": "sZkgbumC3isk",
        "outputId": "bf8077ca-649b-4d50-eea7-d75ce85273dc"
      },
      "execution_count": null,
      "outputs": [
        {
          "output_type": "stream",
          "name": "stdout",
          "text": [
            "Number of images in pylorus : 697\n",
            "Number of images in retroflex-stomach : 558\n",
            "Number of images in polyps : 733\n",
            "Number of images in dyed-lifted-polyps : 714\n",
            "Number of images in ulcerative-colitis-grade-2 : 315\n",
            "Number of images in bbps-0-1 : 448\n",
            "Number of images in retroflex-rectum : 262\n",
            "Number of images in cecum : 737\n",
            "Number of images in esophagitis-a : 263\n",
            "Number of images in bbps-2-3 : 849\n",
            "Number of images in z-line : 656\n",
            "Number of images in dyed-resection-margins : 700\n"
          ]
        }
      ]
    },
    {
      "cell_type": "code",
      "source": [
        "sum(class_cnt)"
      ],
      "metadata": {
        "colab": {
          "base_uri": "https://localhost:8080/"
        },
        "id": "z6YLKPGKAz4p",
        "outputId": "37410026-d607-4b65-9293-933b4408561f"
      },
      "execution_count": null,
      "outputs": [
        {
          "output_type": "execute_result",
          "data": {
            "text/plain": [
              "6932"
            ]
          },
          "metadata": {},
          "execution_count": 11
        }
      ]
    },
    {
      "cell_type": "code",
      "source": [
        "# Directory with class pictures\n",
        "for i in range(len(class_names)):\n",
        "    locals()[\"val\"+str(i)] = os.path.join(val_folder, class_names[i])"
      ],
      "metadata": {
        "id": "-dKW84p2AP8I"
      },
      "execution_count": null,
      "outputs": []
    },
    {
      "cell_type": "code",
      "source": [
        "val_cnt = []\n",
        "for k in range(len(class_names)):\n",
        "  val_cnt.append(len(os.listdir(locals()[\"val\"+str(k)])))\n",
        "  print(\"Number of images in\",class_names[k],\":\", len(os.listdir(locals()[\"val\"+str(k)])))"
      ],
      "metadata": {
        "colab": {
          "base_uri": "https://localhost:8080/"
        },
        "id": "ES15wUC9AFCO",
        "outputId": "5d5b51c7-b62c-4782-f89b-d091628eede8"
      },
      "execution_count": null,
      "outputs": [
        {
          "output_type": "stream",
          "name": "stdout",
          "text": [
            "Number of images in pylorus : 213\n",
            "Number of images in retroflex-stomach : 138\n",
            "Number of images in polyps : 203\n",
            "Number of images in dyed-lifted-polyps : 186\n",
            "Number of images in ulcerative-colitis-grade-2 : 89\n",
            "Number of images in bbps-0-1 : 129\n",
            "Number of images in retroflex-rectum : 89\n",
            "Number of images in cecum : 181\n",
            "Number of images in esophagitis-a : 103\n",
            "Number of images in bbps-2-3 : 220\n",
            "Number of images in z-line : 203\n",
            "Number of images in dyed-resection-margins : 204\n"
          ]
        }
      ]
    },
    {
      "cell_type": "code",
      "source": [
        "sum(val_cnt)"
      ],
      "metadata": {
        "colab": {
          "base_uri": "https://localhost:8080/"
        },
        "id": "5UQ3eWZuAvwO",
        "outputId": "bd0194b9-d260-43a4-fd7d-c405b27c7178"
      },
      "execution_count": null,
      "outputs": [
        {
          "output_type": "execute_result",
          "data": {
            "text/plain": [
              "1958"
            ]
          },
          "metadata": {},
          "execution_count": 14
        }
      ]
    },
    {
      "cell_type": "code",
      "source": [
        "# Directory with class pictures\n",
        "for i in range(len(class_names)):\n",
        "    locals()[\"test\"+str(i)] = os.path.join(test_folder, class_names[i])"
      ],
      "metadata": {
        "id": "ftw-3R-TAY9L"
      },
      "execution_count": null,
      "outputs": []
    },
    {
      "cell_type": "code",
      "source": [
        "test_cnt = []\n",
        "for k in range(len(class_names)):\n",
        "  try:\n",
        "    test_cnt.append(len(os.listdir(locals()[\"test\"+str(k)])))\n",
        "    print(\"Number of images in\",class_names[k],\":\", len(os.listdir(locals()[\"test\"+str(k)])))\n",
        "  except:\n",
        "    test_cnt.append(0)\n",
        "    print(\"Number of images in\",class_names[k],\":\", 0)"
      ],
      "metadata": {
        "colab": {
          "base_uri": "https://localhost:8080/"
        },
        "id": "CaabrteJAWxM",
        "outputId": "46b02a50-1702-4e39-9ea3-300f8128f65a"
      },
      "execution_count": null,
      "outputs": [
        {
          "output_type": "stream",
          "name": "stdout",
          "text": [
            "Number of images in pylorus : 110\n",
            "Number of images in retroflex-stomach : 68\n",
            "Number of images in polyps : 96\n",
            "Number of images in dyed-lifted-polyps : 102\n",
            "Number of images in ulcerative-colitis-grade-2 : 2\n",
            "Number of images in bbps-0-1 : 74\n",
            "Number of images in retroflex-rectum : 40\n",
            "Number of images in cecum : 95\n",
            "Number of images in esophagitis-a : 37\n",
            "Number of images in bbps-2-3 : 106\n",
            "Number of images in z-line : 100\n",
            "Number of images in dyed-resection-margins : 105\n"
          ]
        }
      ]
    },
    {
      "cell_type": "code",
      "source": [
        "sum(test_cnt)"
      ],
      "metadata": {
        "colab": {
          "base_uri": "https://localhost:8080/"
        },
        "id": "dJjgw61NArpi",
        "outputId": "a35f5637-edbd-4a21-bb2b-78fb34c63d15"
      },
      "execution_count": null,
      "outputs": [
        {
          "output_type": "execute_result",
          "data": {
            "text/plain": [
              "935"
            ]
          },
          "metadata": {},
          "execution_count": 17
        }
      ]
    },
    {
      "cell_type": "code",
      "source": [
        "import matplotlib.pyplot as plt\n",
        "\n",
        "def valuelabel(weight,students):\n",
        "    for i in range(len(weight)):\n",
        "        plt.text(i,students[i],students[i], ha = 'center',\n",
        "                 bbox = dict(facecolor = 'cyan', alpha =0.8))\n",
        "\n",
        "\n",
        "# making the bar chart on the data\n",
        "plt.bar(class_names, class_cnt)\n",
        "\n",
        "valuelabel(class_names, class_cnt) \n",
        "  \n",
        "# giving title to the plot\n",
        "plt.title(\"Distribution of the 12 classes in the training dataset\")\n",
        "  \n",
        "# giving X and Y labels\n",
        "plt.xlabel(\"Class Names\")\n",
        "plt.ylabel(\"Count of classes\")\n",
        "\n",
        "plt.xticks(rotation='vertical')\n",
        "\n",
        "# visualizing the plot\n",
        "plt.show()\n",
        "\n"
      ],
      "metadata": {
        "colab": {
          "base_uri": "https://localhost:8080/",
          "height": 411
        },
        "id": "tdY1fPhHz2Rr",
        "outputId": "c925a280-da0e-4e70-bd24-946264d728a5"
      },
      "execution_count": null,
      "outputs": [
        {
          "output_type": "display_data",
          "data": {
            "image/png": "[encoded data removed]",
            "text/plain": [
              "<Figure size 432x288 with 1 Axes>"
            ]
          },
          "metadata": {
            "needs_background": "light"
          }
        }
      ]
    },
    {
      "cell_type": "code",
      "source": [
        "# making the bar chart on the data\n",
        "plt.bar(class_names, val_cnt)\n",
        "\n",
        "valuelabel(class_names, val_cnt) \n",
        "  \n",
        "# giving title to the plot\n",
        "plt.title(\"Distribution of the 12 classes in the validation dataset\")\n",
        "  \n",
        "# giving X and Y labels\n",
        "plt.xlabel(\"Class Names\")\n",
        "plt.ylabel(\"Count of classes\")\n",
        "\n",
        "plt.xticks(rotation='vertical')\n",
        "\n",
        "# visualizing the plot\n",
        "plt.show()"
      ],
      "metadata": {
        "colab": {
          "base_uri": "https://localhost:8080/",
          "height": 411
        },
        "id": "fVNHPFFOBQxM",
        "outputId": "c532af74-3dd0-425c-e7c5-0896835bfbb7"
      },
      "execution_count": null,
      "outputs": [
        {
          "output_type": "display_data",
          "data": {
            "image/png": "[encoded data removed]",
            "text/plain": [
              "<Figure size 432x288 with 1 Axes>"
            ]
          },
          "metadata": {
            "needs_background": "light"
          }
        }
      ]
    },
    {
      "cell_type": "code",
      "source": [
        "# making the bar chart on the data\n",
        "plt.bar(class_names, test_cnt)\n",
        "\n",
        "valuelabel(class_names, test_cnt) \n",
        "  \n",
        "# giving title to the plot\n",
        "plt.title(\"Distribution of the 12 classes in the test dataset\")\n",
        "  \n",
        "# giving X and Y labels\n",
        "plt.xlabel(\"Class Names\")\n",
        "plt.ylabel(\"Count of classes\")\n",
        "\n",
        "plt.xticks(rotation='vertical')\n",
        "\n",
        "# visualizing the plot\n",
        "plt.show()"
      ],
      "metadata": {
        "colab": {
          "base_uri": "https://localhost:8080/",
          "height": 411
        },
        "id": "q4cHPlFXBQme",
        "outputId": "3f3ce47b-e46a-46a3-9f94-016663361ae8"
      },
      "execution_count": null,
      "outputs": [
        {
          "output_type": "display_data",
          "data": {
            "image/png": "[encoded data removed]",
            "text/plain": [
              "<Figure size 432x288 with 1 Axes>"
            ]
          },
          "metadata": {
            "needs_background": "light"
          }
        }
      ]
    },
    {
      "cell_type": "code",
      "source": [
        "train_datagen = ImageDataGenerator(\n",
        "        rescale = 1./255.,\n",
        "        featurewise_center=False,  # set input mean to 0 over the dataset\n",
        "        samplewise_center=False,  # set each sample mean to 0\n",
        "        featurewise_std_normalization=False,  # divide inputs by std of the dataset\n",
        "        samplewise_std_normalization=False,  # divide each input by its std\n",
        "        zca_whitening=False,  # apply ZCA whitening\n",
        "        rotation_range = 40,  # randomly rotate images in the range (degrees, 0 to 180)\n",
        "        zoom_range = 0.2, # Randomly zoom image \n",
        "        shear_range = 0.2,\n",
        "        width_shift_range=0.2,  # randomly shift images horizontally (fraction of total width)\n",
        "        height_shift_range=0.2,  # randomly shift images vertically (fraction of total height)\n",
        "        horizontal_flip = True,  # randomly flip images\n",
        "        vertical_flip=False)  # randomly flip images"
      ],
      "metadata": {
        "id": "ZwsX-Fwu64ka"
      },
      "execution_count": null,
      "outputs": []
    },
    {
      "cell_type": "code",
      "source": [
        "batch_size = 128"
      ],
      "metadata": {
        "id": "bNMDi5Si7Ecw"
      },
      "execution_count": null,
      "outputs": []
    },
    {
      "cell_type": "code",
      "source": [
        "train_generator = train_datagen.flow_from_directory(train_folder, batch_size = batch_size, classes = class_names, class_mode = 'categorical', target_size = (200, 200))"
      ],
      "metadata": {
        "colab": {
          "base_uri": "https://localhost:8080/"
        },
        "id": "9FzV4RJvOyKa",
        "outputId": "ce80bea8-9236-4eda-ea5e-fa888de109b2"
      },
      "execution_count": null,
      "outputs": [
        {
          "output_type": "stream",
          "name": "stdout",
          "text": [
            "Found 6932 images belonging to 12 classes.\n"
          ]
        }
      ]
    },
    {
      "cell_type": "code",
      "source": [
        "# All images will be rescaled by 1./255\n",
        "test_datagen = ImageDataGenerator(rescale=1/255)\n",
        "\n",
        "# Flow training images in batches of 128 using train_datagen generator\n",
        "val_generator = test_datagen.flow_from_directory(\n",
        "        val_folder,  # This is the source directory for training images\n",
        "        target_size=(200, 200),  # All images will be resized to 200 x 200\n",
        "        batch_size=batch_size,\n",
        "        # Specify the classes explicitly\n",
        "        classes = class_names,\n",
        "        # Since we use categorical_crossentropy loss, we need categorical labels\n",
        "        class_mode='categorical',\n",
        "        shuffle=False)\n",
        "\n",
        "# Flow training images in batches of 128 using train_datagen generator\n",
        "test_generator = test_datagen.flow_from_directory(\n",
        "        test_folder,  # This is the source directory for training images\n",
        "        target_size=(200, 200),  # All images will be resized to 200 x 200\n",
        "        batch_size=batch_size,\n",
        "        # Specify the classes explicitly\n",
        "        classes = class_names,\n",
        "        # Since we use categorical_crossentropy loss, we need categorical labels\n",
        "        class_mode='categorical',\n",
        "        shuffle=False)"
      ],
      "metadata": {
        "colab": {
          "base_uri": "https://localhost:8080/"
        },
        "id": "TG51POzyPDgO",
        "outputId": "d377b7d6-684b-49cf-ea80-e381cd3bd065"
      },
      "execution_count": null,
      "outputs": [
        {
          "output_type": "stream",
          "name": "stdout",
          "text": [
            "Found 1958 images belonging to 12 classes.\n",
            "Found 935 images belonging to 12 classes.\n"
          ]
        }
      ]
    },
    {
      "cell_type": "markdown",
      "source": [
        "# **Method 2**"
      ],
      "metadata": {
        "id": "kkDl8aFWPqEf"
      }
    },
    {
      "cell_type": "code",
      "source": [
        "from keras.utils.np_utils import to_categorical \n",
        "test_labels = test_generator.classes  \n",
        "test_labels = to_categorical(test_labels, num_classes=len(class_names)) "
      ],
      "metadata": {
        "id": "N3dz6pIt3ZFF"
      },
      "execution_count": null,
      "outputs": []
    },
    {
      "cell_type": "code",
      "source": [
        "len(test_labels)"
      ],
      "metadata": {
        "colab": {
          "base_uri": "https://localhost:8080/"
        },
        "id": "RiDV6LJ03mi9",
        "outputId": "eee8934a-f411-4b2d-9d48-1270547c0e3f"
      },
      "execution_count": null,
      "outputs": [
        {
          "output_type": "execute_result",
          "data": {
            "text/plain": [
              "935"
            ]
          },
          "metadata": {},
          "execution_count": 26
        }
      ]
    },
    {
      "cell_type": "code",
      "source": [
        "model = tf.keras.models.Sequential([\n",
        "    # Note the input shape is the desired size of the image 200x 200 with 3 bytes color\n",
        "    # The first convolution\n",
        "    tf.keras.layers.Conv2D(16, (3,3), activation='relu', input_shape=(200, 200, 3)),\n",
        "    tf.keras.layers.MaxPooling2D(2, 2),\n",
        "    # The second convolution\n",
        "    tf.keras.layers.Conv2D(32, (3,3), activation='relu'),\n",
        "    tf.keras.layers.MaxPooling2D(2,2),\n",
        "    # The third convolution\n",
        "    tf.keras.layers.Conv2D(64, (3,3), activation='relu'),\n",
        "    tf.keras.layers.MaxPooling2D(2,2),\n",
        "    # The fourth convolution\n",
        "    tf.keras.layers.Conv2D(64, (3,3), activation='relu'),\n",
        "    tf.keras.layers.MaxPooling2D(2,2),\n",
        "    # The fifth convolution\n",
        "    tf.keras.layers.Conv2D(64, (3,3), activation='relu'),\n",
        "    tf.keras.layers.MaxPooling2D(2,2),\n",
        "    # Flatten the results to feed into a dense layer\n",
        "    tf.keras.layers.Flatten(),\n",
        "    # 128 neuron in the fully-connected layer\n",
        "    tf.keras.layers.Dense(128, activation='relu'),\n",
        "    # 64 neuron in the fully-connected layer\n",
        "    tf.keras.layers.Dense(64, activation='relu'),\n",
        "    # 12 output neurons for 12 classes with the softmax activation\n",
        "    tf.keras.layers.Dense(12, activation='softmax')\n",
        "])\n",
        "model.summary()"
      ],
      "metadata": {
        "colab": {
          "base_uri": "https://localhost:8080/"
        },
        "id": "uABhKKT47Eip",
        "outputId": "20576418-6651-41d7-a6cb-a1ccf3b43ff0"
      },
      "execution_count": null,
      "outputs": [
        {
          "output_type": "stream",
          "name": "stdout",
          "text": [
            "Model: \"sequential\"\n",
            "_________________________________________________________________\n",
            " Layer (type)                Output Shape              Param #   \n",
            "=================================================================\n",
            " conv2d (Conv2D)             (None, 198, 198, 16)      448       \n",
            "                                                                 \n",
            " max_pooling2d (MaxPooling2D  (None, 99, 99, 16)       0         \n",
            " )                                                               \n",
            "                                                                 \n",
            " conv2d_1 (Conv2D)           (None, 97, 97, 32)        4640      \n",
            "                                                                 \n",
            " max_pooling2d_1 (MaxPooling  (None, 48, 48, 32)       0         \n",
            " 2D)                                                             \n",
            "                                                                 \n",
            " conv2d_2 (Conv2D)           (None, 46, 46, 64)        18496     \n",
            "                                                                 \n",
            " max_pooling2d_2 (MaxPooling  (None, 23, 23, 64)       0         \n",
            " 2D)                                                             \n",
            "                                                                 \n",
            " conv2d_3 (Conv2D)           (None, 21, 21, 64)        36928     \n",
            "                                                                 \n",
            " max_pooling2d_3 (MaxPooling  (None, 10, 10, 64)       0         \n",
            " 2D)                                                             \n",
            "                                                                 \n",
            " conv2d_4 (Conv2D)           (None, 8, 8, 64)          36928     \n",
            "                                                                 \n",
            " max_pooling2d_4 (MaxPooling  (None, 4, 4, 64)         0         \n",
            " 2D)                                                             \n",
            "                                                                 \n",
            " flatten (Flatten)           (None, 1024)              0         \n",
            "                                                                 \n",
            " dense (Dense)               (None, 128)               131200    \n",
            "                                                                 \n",
            " dense_1 (Dense)             (None, 64)                8256      \n",
            "                                                                 \n",
            " dense_2 (Dense)             (None, 12)                780       \n",
            "                                                                 \n",
            "=================================================================\n",
            "Total params: 237,676\n",
            "Trainable params: 237,676\n",
            "Non-trainable params: 0\n",
            "_________________________________________________________________\n"
          ]
        }
      ]
    },
    {
      "cell_type": "code",
      "source": [
        "model.compile(loss='categorical_crossentropy',\n",
        "              optimizer=Adam(lr=0.001),\n",
        "              metrics=['acc'])"
      ],
      "metadata": {
        "colab": {
          "base_uri": "https://localhost:8080/"
        },
        "id": "yiemKYxf7Elo",
        "outputId": "b9620c35-0303-4a65-a4e1-1e0951a20b7d"
      },
      "execution_count": null,
      "outputs": [
        {
          "output_type": "stream",
          "name": "stderr",
          "text": [
            "/usr/local/lib/python3.7/dist-packages/keras/optimizer_v2/adam.py:105: UserWarning: The `lr` argument is deprecated, use `learning_rate` instead.\n",
            "  super(Adam, self).__init__(name, **kwargs)\n"
          ]
        }
      ]
    },
    {
      "cell_type": "code",
      "source": [
        "total_sample=train_generator.n"
      ],
      "metadata": {
        "id": "U1e2S7BJ8WUJ"
      },
      "execution_count": null,
      "outputs": []
    },
    {
      "cell_type": "code",
      "source": [
        "val_sample = val_generator.n"
      ],
      "metadata": {
        "id": "lJtIy34A4ib7"
      },
      "execution_count": null,
      "outputs": []
    },
    {
      "cell_type": "code",
      "source": [
        "n_epochs = 30"
      ],
      "metadata": {
        "id": "VJIIa3nY8WXY"
      },
      "execution_count": null,
      "outputs": []
    },
    {
      "cell_type": "code",
      "source": [
        "from sklearn.utils import class_weight\n",
        "import numpy as np\n",
        "\n",
        "# class_weights = class_weight.compute_class_weight(\n",
        "#            'balanced',\n",
        "#             np.unique(train_generator.classes), \n",
        "#             train_generator.classes)\n",
        "\n",
        "class_weights = class_weight.compute_class_weight(\n",
        "                                        class_weight = \"balanced\",\n",
        "                                        classes = np.unique(train_generator.classes),\n",
        "                                        y = train_generator.classes                                                    \n",
        "                                    )\n",
        "class_weights = dict(zip(np.unique(train_generator.classes), class_weights))\n",
        "class_weights"
      ],
      "metadata": {
        "colab": {
          "base_uri": "https://localhost:8080/"
        },
        "id": "76t7K24o0GMj",
        "outputId": "d35bf309-173e-482f-eb4e-b0ab7da08594"
      },
      "execution_count": null,
      "outputs": [
        {
          "output_type": "execute_result",
          "data": {
            "text/plain": [
              "{0: 0.8287900526064084,\n",
              " 1: 1.0352449223416966,\n",
              " 2: 0.7880854934060937,\n",
              " 3: 0.8090569561157797,\n",
              " 4: 1.8338624338624339,\n",
              " 5: 1.2894345238095237,\n",
              " 6: 2.204834605597964,\n",
              " 7: 0.7838082315694256,\n",
              " 8: 2.1964512040557667,\n",
              " 9: 0.6804083235178642,\n",
              " 10: 0.880589430894309,\n",
              " 11: 0.8252380952380952}"
            ]
          },
          "metadata": {},
          "execution_count": 33
        }
      ]
    },
    {
      "cell_type": "code",
      "source": [
        "dict_classes = {\n",
        " 'bbps-0-1': 0,\n",
        " 'bbps-2-3': 1,\n",
        " 'cecum': 2,\n",
        " 'ulcerative-colitis-grade-2': 3,\n",
        " 'dyed-resection-margins': 4,\n",
        " 'pylorus': 5,\n",
        " 'z-line': 6,\n",
        " 'retroflex-stomach': 7,\n",
        " 'esophagitis-a': 8,\n",
        " 'retroflex-rectum': 9,\n",
        " 'polyps': 10,\n",
        " 'dyed-lifted-polyps': 11\n",
        "}\n",
        "dict_classes"
      ],
      "metadata": {
        "colab": {
          "base_uri": "https://localhost:8080/"
        },
        "id": "bG1r4BAsK_3t",
        "outputId": "3f5478ef-6704-4e64-fa58-26c772946646"
      },
      "execution_count": null,
      "outputs": [
        {
          "output_type": "execute_result",
          "data": {
            "text/plain": [
              "{'bbps-0-1': 0,\n",
              " 'bbps-2-3': 1,\n",
              " 'cecum': 2,\n",
              " 'dyed-lifted-polyps': 11,\n",
              " 'dyed-resection-margins': 4,\n",
              " 'esophagitis-a': 8,\n",
              " 'polyps': 10,\n",
              " 'pylorus': 5,\n",
              " 'retroflex-rectum': 9,\n",
              " 'retroflex-stomach': 7,\n",
              " 'ulcerative-colitis-grade-2': 3,\n",
              " 'z-line': 6}"
            ]
          },
          "metadata": {},
          "execution_count": 34
        }
      ]
    },
    {
      "cell_type": "code",
      "source": [
        "train_generator.classes"
      ],
      "metadata": {
        "colab": {
          "base_uri": "https://localhost:8080/"
        },
        "id": "iiGdYTiJK6kf",
        "outputId": "6e6c854a-5c78-49a5-b811-7c20ed67a773"
      },
      "execution_count": null,
      "outputs": [
        {
          "output_type": "execute_result",
          "data": {
            "text/plain": [
              "array([ 0,  0,  0, ..., 11, 11, 11], dtype=int32)"
            ]
          },
          "metadata": {},
          "execution_count": 35
        }
      ]
    },
    {
      "cell_type": "code",
      "source": [
        "total_sample"
      ],
      "metadata": {
        "colab": {
          "base_uri": "https://localhost:8080/"
        },
        "id": "8DWy9-fkK1v6",
        "outputId": "97fb227e-66d9-461b-c3c3-8ae5c1ef2085"
      },
      "execution_count": null,
      "outputs": [
        {
          "output_type": "execute_result",
          "data": {
            "text/plain": [
              "6932"
            ]
          },
          "metadata": {},
          "execution_count": 36
        }
      ]
    },
    {
      "cell_type": "code",
      "source": [
        "history = model.fit_generator(\n",
        "        train_generator,\n",
        "        steps_per_epoch=int(total_sample/batch_size),\n",
        "        epochs=n_epochs,\n",
        "        class_weight=class_weights,\n",
        "        validation_data=val_generator,\n",
        "        validation_steps=int(val_sample/batch_size),\n",
        "        verbose=1)\n",
        "model.save_weights('first_try.h5')  # always save your weights after training or during training"
      ],
      "metadata": {
        "colab": {
          "base_uri": "https://localhost:8080/"
        },
        "id": "pEgg2qIi4Qn4",
        "outputId": "775cd3bb-495d-4cc1-f1a2-e02100456add"
      },
      "execution_count": null,
      "outputs": [
        {
          "output_type": "stream",
          "name": "stderr",
          "text": [
            "/usr/local/lib/python3.7/dist-packages/ipykernel_launcher.py:8: UserWarning: `Model.fit_generator` is deprecated and will be removed in a future version. Please use `Model.fit`, which supports generators.\n",
            "  \n"
          ]
        },
        {
          "output_type": "stream",
          "name": "stdout",
          "text": [
            "Epoch 1/30\n",
            "54/54 [==============================] - 5645s 105s/step - loss: 1.9298 - acc: 0.2670 - val_loss: 1.3499 - val_acc: 0.4266\n",
            "Epoch 2/30\n",
            "54/54 [==============================] - 347s 6s/step - loss: 1.3819 - acc: 0.4462 - val_loss: 0.9897 - val_acc: 0.6266\n",
            "Epoch 3/30\n",
            "54/54 [==============================] - 362s 7s/step - loss: 1.1958 - acc: 0.5401 - val_loss: 0.9410 - val_acc: 0.6318\n",
            "Epoch 4/30\n",
            "54/54 [==============================] - 346s 6s/step - loss: 1.0665 - acc: 0.5904 - val_loss: 0.9428 - val_acc: 0.6359\n",
            "Epoch 5/30\n",
            "54/54 [==============================] - 347s 6s/step - loss: 0.9943 - acc: 0.6111 - val_loss: 0.8419 - val_acc: 0.6542\n",
            "Epoch 6/30\n",
            "54/54 [==============================] - 345s 6s/step - loss: 0.9069 - acc: 0.6445 - val_loss: 0.7560 - val_acc: 0.7052\n",
            "Epoch 7/30\n",
            "54/54 [==============================] - 347s 6s/step - loss: 0.8225 - acc: 0.6765 - val_loss: 0.7391 - val_acc: 0.7260\n",
            "Epoch 8/30\n",
            "54/54 [==============================] - 363s 7s/step - loss: 0.8119 - acc: 0.6753 - val_loss: 0.7837 - val_acc: 0.6974\n",
            "Epoch 9/30\n",
            "54/54 [==============================] - 347s 6s/step - loss: 0.7796 - acc: 0.6981 - val_loss: 0.7554 - val_acc: 0.7016\n",
            "Epoch 10/30\n",
            "54/54 [==============================] - 346s 6s/step - loss: 0.7503 - acc: 0.6950 - val_loss: 0.6123 - val_acc: 0.7177\n",
            "Epoch 11/30\n",
            "54/54 [==============================] - 362s 7s/step - loss: 0.6984 - acc: 0.7115 - val_loss: 0.5362 - val_acc: 0.7797\n",
            "Epoch 12/30\n",
            "54/54 [==============================] - 346s 6s/step - loss: 0.6770 - acc: 0.7206 - val_loss: 0.5929 - val_acc: 0.7563\n",
            "Epoch 13/30\n",
            "54/54 [==============================] - 347s 6s/step - loss: 0.6561 - acc: 0.7349 - val_loss: 0.5716 - val_acc: 0.7786\n",
            "Epoch 14/30\n",
            "54/54 [==============================] - 360s 7s/step - loss: 0.6506 - acc: 0.7385 - val_loss: 0.5279 - val_acc: 0.7969\n",
            "Epoch 15/30\n",
            "54/54 [==============================] - 362s 7s/step - loss: 0.6167 - acc: 0.7472 - val_loss: 0.5712 - val_acc: 0.7656\n",
            "Epoch 16/30\n",
            "54/54 [==============================] - 362s 7s/step - loss: 0.5910 - acc: 0.7600 - val_loss: 0.5166 - val_acc: 0.7937\n",
            "Epoch 17/30\n",
            "54/54 [==============================] - 344s 6s/step - loss: 0.6083 - acc: 0.7534 - val_loss: 0.6018 - val_acc: 0.7260\n",
            "Epoch 18/30\n",
            "54/54 [==============================] - 360s 7s/step - loss: 0.5857 - acc: 0.7663 - val_loss: 0.4641 - val_acc: 0.8151\n",
            "Epoch 19/30\n",
            "54/54 [==============================] - 363s 7s/step - loss: 0.5836 - acc: 0.7666 - val_loss: 0.5812 - val_acc: 0.7557\n",
            "Epoch 20/30\n",
            "54/54 [==============================] - 344s 6s/step - loss: 0.5928 - acc: 0.7668 - val_loss: 0.4977 - val_acc: 0.7729\n",
            "Epoch 21/30\n",
            "54/54 [==============================] - 361s 7s/step - loss: 0.5337 - acc: 0.7800 - val_loss: 0.4478 - val_acc: 0.8042\n",
            "Epoch 22/30\n",
            "54/54 [==============================] - 344s 6s/step - loss: 0.5498 - acc: 0.7748 - val_loss: 0.4727 - val_acc: 0.8073\n",
            "Epoch 23/30\n",
            "54/54 [==============================] - 360s 7s/step - loss: 0.5320 - acc: 0.7928 - val_loss: 0.4133 - val_acc: 0.8349\n",
            "Epoch 24/30\n",
            "54/54 [==============================] - 360s 7s/step - loss: 0.5407 - acc: 0.7847 - val_loss: 0.5226 - val_acc: 0.7812\n",
            "Epoch 25/30\n",
            "54/54 [==============================] - 348s 6s/step - loss: 0.5153 - acc: 0.7828 - val_loss: 0.4442 - val_acc: 0.8219\n",
            "Epoch 26/30\n",
            "54/54 [==============================] - 362s 7s/step - loss: 0.5177 - acc: 0.7961 - val_loss: 0.5187 - val_acc: 0.7625\n",
            "Epoch 27/30\n",
            "54/54 [==============================] - 363s 7s/step - loss: 0.5094 - acc: 0.7856 - val_loss: 0.4575 - val_acc: 0.8177\n",
            "Epoch 28/30\n",
            "54/54 [==============================] - 361s 7s/step - loss: 0.5224 - acc: 0.7816 - val_loss: 0.4358 - val_acc: 0.8297\n",
            "Epoch 29/30\n",
            "54/54 [==============================] - 360s 7s/step - loss: 0.4864 - acc: 0.8026 - val_loss: 0.4400 - val_acc: 0.8130\n",
            "Epoch 30/30\n",
            "54/54 [==============================] - 359s 7s/step - loss: 0.4911 - acc: 0.7982 - val_loss: 0.4054 - val_acc: 0.8469\n"
          ]
        }
      ]
    },
    {
      "cell_type": "code",
      "source": [
        "acc = history.history['acc']\n",
        "val_acc = history.history['val_acc']\n",
        "\n",
        "loss = history.history['loss']\n",
        "val_loss = history.history['val_loss']\n",
        "\n",
        "epochs_range = range(n_epochs)\n",
        "\n",
        "plt.figure(figsize=(8, 8))\n",
        "plt.subplot(1, 2, 1)\n",
        "plt.plot(epochs_range, acc, label='Training Accuracy')\n",
        "plt.plot(epochs_range, val_acc, label='Validation Accuracy')\n",
        "plt.legend(loc='lower right')\n",
        "plt.title('Training and Validation Accuracy')\n",
        "\n",
        "plt.subplot(1, 2, 2)\n",
        "plt.plot(epochs_range, loss, label='Training Loss')\n",
        "plt.plot(epochs_range, val_loss, label='Validation Loss')\n",
        "plt.legend(loc='upper right')\n",
        "plt.title('Training and Validation Loss')\n",
        "plt.show()"
      ],
      "metadata": {
        "colab": {
          "base_uri": "https://localhost:8080/",
          "height": 499
        },
        "id": "sPVDxotFmuVu",
        "outputId": "e305ccd4-8cd5-43bb-e04c-09d2bb64f14d"
      },
      "execution_count": null,
      "outputs": [
        {
          "output_type": "display_data",
          "data": {
            "image/png": "[encoded data removed]",
            "text/plain": [
              "<Figure size 576x576 with 2 Axes>"
            ]
          },
          "metadata": {
            "needs_background": "light"
          }
        }
      ]
    },
    {
      "cell_type": "code",
      "source": [
        "plt.figure(figsize=(7,4))\n",
        "plt.plot([i+1 for i in range(n_epochs)],history.history['acc'],'-o',c='k',lw=2,markersize=9)\n",
        "plt.grid(True)\n",
        "plt.title(\"Training accuracy with epochs\\n\",fontsize=18)\n",
        "plt.xlabel(\"Training epochs\",fontsize=15)\n",
        "plt.ylabel(\"Training accuracy\",fontsize=15)\n",
        "plt.xticks(fontsize=15)\n",
        "plt.yticks(fontsize=15)\n",
        "plt.show()"
      ],
      "metadata": {
        "colab": {
          "base_uri": "https://localhost:8080/",
          "height": 330
        },
        "id": "OXolUnyM8xtU",
        "outputId": "f19cc5f3-10fa-48f7-c3e1-2b91a0248e5c"
      },
      "execution_count": null,
      "outputs": [
        {
          "output_type": "display_data",
          "data": {
            "image/png": "[encoded data removed]",
            "text/plain": [
              "<Figure size 504x288 with 1 Axes>"
            ]
          },
          "metadata": {
            "needs_background": "light"
          }
        }
      ]
    },
    {
      "cell_type": "code",
      "source": [
        "plt.figure(figsize=(7,4))\n",
        "plt.plot([i+1 for i in range(n_epochs)],history.history['loss'],'-o',c='k',lw=2,markersize=9)\n",
        "plt.grid(True)\n",
        "plt.title(\"Training loss with epochs\\n\",fontsize=18)\n",
        "plt.xlabel(\"Training epochs\",fontsize=15)\n",
        "plt.ylabel(\"Training loss\",fontsize=15)\n",
        "plt.xticks(fontsize=15)\n",
        "plt.yticks(fontsize=15)\n",
        "plt.show()"
      ],
      "metadata": {
        "colab": {
          "base_uri": "https://localhost:8080/",
          "height": 330
        },
        "id": "aVPWdRMw8xxY",
        "outputId": "576cd800-9d5a-420b-a0a4-b8b28d6e4529"
      },
      "execution_count": null,
      "outputs": [
        {
          "output_type": "display_data",
          "data": {
            "image/png": "[encoded data removed]",
            "text/plain": [
              "<Figure size 504x288 with 1 Axes>"
            ]
          },
          "metadata": {
            "needs_background": "light"
          }
        }
      ]
    },
    {
      "cell_type": "code",
      "source": [
        "pred = np.round(model.predict(test_generator),0)"
      ],
      "metadata": {
        "id": "--6YV_O08x05"
      },
      "execution_count": null,
      "outputs": []
    },
    {
      "cell_type": "code",
      "source": [
        "pred[0]"
      ],
      "metadata": {
        "colab": {
          "base_uri": "https://localhost:8080/"
        },
        "id": "QMV8-c9G3zD7",
        "outputId": "841d3750-51fe-4379-907c-c0f618442451"
      },
      "execution_count": null,
      "outputs": [
        {
          "output_type": "execute_result",
          "data": {
            "text/plain": [
              "array([1., 0., 0., 0., 0., 0., 0., 0., 0., 0., 0., 0.], dtype=float32)"
            ]
          },
          "metadata": {},
          "execution_count": 42
        }
      ]
    },
    {
      "cell_type": "code",
      "source": [
        "classification_metrics = metrics.classification_report(test_labels, pred)\n",
        "print(classification_metrics)"
      ],
      "metadata": {
        "colab": {
          "base_uri": "https://localhost:8080/"
        },
        "id": "uYMV--Zb8x4B",
        "outputId": "5ef9bfb6-104c-443f-a4ec-4416bdb32240"
      },
      "execution_count": null,
      "outputs": [
        {
          "output_type": "stream",
          "name": "stdout",
          "text": [
            "              precision    recall  f1-score   support\n",
            "\n",
            "           0       0.89      0.95      0.92       110\n",
            "           1       0.98      0.90      0.94        68\n",
            "           2       1.00      0.94      0.97        96\n",
            "           3       0.67      0.59      0.62       102\n",
            "           4       0.14      1.00      0.25         2\n",
            "           5       0.94      0.91      0.92        74\n",
            "           6       0.78      1.00      0.88        40\n",
            "           7       0.98      0.93      0.95        95\n",
            "           8       0.50      0.38      0.43        37\n",
            "           9       0.98      0.97      0.98       106\n",
            "          10       0.79      0.61      0.69       100\n",
            "          11       0.68      0.66      0.67       105\n",
            "\n",
            "   micro avg       0.85      0.81      0.83       935\n",
            "   macro avg       0.78      0.82      0.77       935\n",
            "weighted avg       0.85      0.81      0.83       935\n",
            " samples avg       0.81      0.81      0.81       935\n",
            "\n"
          ]
        },
        {
          "output_type": "stream",
          "name": "stderr",
          "text": [
            "/usr/local/lib/python3.7/dist-packages/sklearn/metrics/_classification.py:1318: UndefinedMetricWarning: Precision and F-score are ill-defined and being set to 0.0 in samples with no predicted labels. Use `zero_division` parameter to control this behavior.\n",
            "  _warn_prf(average, modifier, msg_start, len(result))\n"
          ]
        }
      ]
    },
    {
      "cell_type": "code",
      "source": [
        "import pandas as pd\n",
        "import itertools"
      ],
      "metadata": {
        "id": "VocLblzg_aPo"
      },
      "execution_count": null,
      "outputs": []
    },
    {
      "cell_type": "code",
      "source": [
        "test_labels_tentative = pd.DataFrame(test_labels).idxmax(axis=1)\n",
        "preds_tentative = pd.DataFrame(pred).idxmax(axis=1)"
      ],
      "metadata": {
        "id": "Qm8Ehy1n_Ilf"
      },
      "execution_count": null,
      "outputs": []
    },
    {
      "cell_type": "code",
      "source": [
        "confusion_matrix = confusion_matrix(test_labels_tentative, preds_tentative)\n",
        "confusion_matrix"
      ],
      "metadata": {
        "colab": {
          "base_uri": "https://localhost:8080/"
        },
        "id": "j6b0geaf_IoM",
        "outputId": "1b434f8c-f7cf-4c03-d42d-9a7874364247"
      },
      "execution_count": null,
      "outputs": [
        {
          "output_type": "execute_result",
          "data": {
            "text/plain": [
              "array([[106,   0,   0,   0,   3,   1,   0,   0,   0,   0,   0,   0],\n",
              "       [  1,  61,   0,   0,   0,   0,   6,   0,   0,   0,   0,   0],\n",
              "       [  2,   0,  90,   0,   1,   0,   2,   1,   0,   0,   0,   0],\n",
              "       [  7,   0,   0,  60,   0,   0,   2,   0,   0,   0,   0,  33],\n",
              "       [  0,   0,   0,   0,   2,   0,   0,   0,   0,   0,   0,   0],\n",
              "       [  2,   0,   0,   0,   2,  67,   0,   1,   0,   2,   0,   0],\n",
              "       [  0,   0,   0,   0,   0,   0,  40,   0,   0,   0,   0,   0],\n",
              "       [  1,   0,   0,   0,   6,   0,   0,  88,   0,   0,   0,   0],\n",
              "       [  7,   0,   0,   0,   0,   0,   0,   0,  14,   0,  16,   0],\n",
              "       [  1,   0,   0,   0,   0,   2,   0,   0,   0, 103,   0,   0],\n",
              "       [ 24,   1,   0,   0,   0,   0,   0,   0,  14,   0,  61,   0],\n",
              "       [  4,   0,   0,  30,   0,   1,   1,   0,   0,   0,   0,  69]])"
            ]
          },
          "metadata": {},
          "execution_count": 46
        }
      ]
    }
  ]
}